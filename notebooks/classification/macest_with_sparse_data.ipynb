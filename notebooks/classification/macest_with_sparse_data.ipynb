{
 "cells": [
  {
   "cell_type": "markdown",
   "metadata": {},
   "source": [
    "# MACE with Sparse arrays"
   ]
  },
  {
   "cell_type": "code",
   "execution_count": 1,
   "metadata": {},
   "outputs": [],
   "source": [
    "%load_ext autoreload\n",
    "%autoreload 2"
   ]
  },
  {
   "cell_type": "code",
   "execution_count": 2,
   "metadata": {},
   "outputs": [],
   "source": [
    "from scipy.sparse import csr_matrix \n",
    "from scipy.sparse import random as sp_rand\n",
    "\n",
    "import numpy as np \n",
    "import matplotlib.pyplot as plt \n",
    "from matplotlib import cm\n",
    "import seaborn as sns \n",
    "\n",
    "from sklearn import datasets\n",
    "from sklearn.model_selection import train_test_split\n",
    "from sklearn.ensemble import RandomForestClassifier\n",
    "from sklearn.calibration import CalibratedClassifierCV\n",
    "\n",
    "from macest.classification import models as clmod\n",
    "from macest.classification import plots as clplot\n",
    "\n",
    "import nmslib "
   ]
  },
  {
   "cell_type": "code",
   "execution_count": 3,
   "metadata": {},
   "outputs": [],
   "source": [
    "sns.set_context(\"notebook\")\n",
    "sns.set_style('darkgrid')"
   ]
  },
  {
   "cell_type": "markdown",
   "metadata": {},
   "source": [
    "## Generate random sparse data, we will use the scipy sparse csr matrix"
   ]
  },
  {
   "cell_type": "code",
   "execution_count": 4,
   "metadata": {},
   "outputs": [],
   "source": [
    "n_rows = 10**3\n",
    "n_cols = 5 * 10**3"
   ]
  },
  {
   "cell_type": "code",
   "execution_count": 5,
   "metadata": {},
   "outputs": [],
   "source": [
    "X = csr_matrix(sp_rand(n_rows, n_cols))\n",
    "y = np.random.randint(0, 2, n_rows)"
   ]
  },
  {
   "cell_type": "code",
   "execution_count": 6,
   "metadata": {},
   "outputs": [
    {
     "data": {
      "text/plain": [
       "<1000x5000 sparse matrix of type '<class 'numpy.float64'>'\n",
       "\twith 50000 stored elements in Compressed Sparse Row format>"
      ]
     },
     "execution_count": 6,
     "metadata": {},
     "output_type": "execute_result"
    }
   ],
   "source": [
    "X"
   ]
  },
  {
   "cell_type": "code",
   "execution_count": 7,
   "metadata": {},
   "outputs": [
    {
     "data": {
      "text/plain": [
       "True"
      ]
     },
     "execution_count": 7,
     "metadata": {},
     "output_type": "execute_result"
    }
   ],
   "source": [
    "type(X) == csr_matrix"
   ]
  },
  {
   "cell_type": "code",
   "execution_count": 8,
   "metadata": {},
   "outputs": [
    {
     "name": "stdout",
     "output_type": "stream",
     "text": [
      "float64\n"
     ]
    }
   ],
   "source": [
    "print(X.dtype)"
   ]
  },
  {
   "cell_type": "code",
   "execution_count": 9,
   "metadata": {},
   "outputs": [],
   "source": [
    "X_pp_train, X_conf_train, y_pp_train, y_conf_train  = train_test_split(X, y, test_size=0.66, random_state=10)\n",
    "X_conf_train, X_cal, y_conf_train, y_cal = train_test_split(X_conf_train, y_conf_train,\n",
    "                                                            test_size=0.5, random_state=0)\n",
    "X_cal, X_test, y_cal,  y_test, = train_test_split(X_cal, y_cal, test_size=0.5, random_state=0)"
   ]
  },
  {
   "cell_type": "code",
   "execution_count": 10,
   "metadata": {},
   "outputs": [
    {
     "data": {
      "text/html": [
       "<style>#sk-container-id-1 {color: black;background-color: white;}#sk-container-id-1 pre{padding: 0;}#sk-container-id-1 div.sk-toggleable {background-color: white;}#sk-container-id-1 label.sk-toggleable__label {cursor: pointer;display: block;width: 100%;margin-bottom: 0;padding: 0.3em;box-sizing: border-box;text-align: center;}#sk-container-id-1 label.sk-toggleable__label-arrow:before {content: \"▸\";float: left;margin-right: 0.25em;color: #696969;}#sk-container-id-1 label.sk-toggleable__label-arrow:hover:before {color: black;}#sk-container-id-1 div.sk-estimator:hover label.sk-toggleable__label-arrow:before {color: black;}#sk-container-id-1 div.sk-toggleable__content {max-height: 0;max-width: 0;overflow: hidden;text-align: left;background-color: #f0f8ff;}#sk-container-id-1 div.sk-toggleable__content pre {margin: 0.2em;color: black;border-radius: 0.25em;background-color: #f0f8ff;}#sk-container-id-1 input.sk-toggleable__control:checked~div.sk-toggleable__content {max-height: 200px;max-width: 100%;overflow: auto;}#sk-container-id-1 input.sk-toggleable__control:checked~label.sk-toggleable__label-arrow:before {content: \"▾\";}#sk-container-id-1 div.sk-estimator input.sk-toggleable__control:checked~label.sk-toggleable__label {background-color: #d4ebff;}#sk-container-id-1 div.sk-label input.sk-toggleable__control:checked~label.sk-toggleable__label {background-color: #d4ebff;}#sk-container-id-1 input.sk-hidden--visually {border: 0;clip: rect(1px 1px 1px 1px);clip: rect(1px, 1px, 1px, 1px);height: 1px;margin: -1px;overflow: hidden;padding: 0;position: absolute;width: 1px;}#sk-container-id-1 div.sk-estimator {font-family: monospace;background-color: #f0f8ff;border: 1px dotted black;border-radius: 0.25em;box-sizing: border-box;margin-bottom: 0.5em;}#sk-container-id-1 div.sk-estimator:hover {background-color: #d4ebff;}#sk-container-id-1 div.sk-parallel-item::after {content: \"\";width: 100%;border-bottom: 1px solid gray;flex-grow: 1;}#sk-container-id-1 div.sk-label:hover label.sk-toggleable__label {background-color: #d4ebff;}#sk-container-id-1 div.sk-serial::before {content: \"\";position: absolute;border-left: 1px solid gray;box-sizing: border-box;top: 0;bottom: 0;left: 50%;z-index: 0;}#sk-container-id-1 div.sk-serial {display: flex;flex-direction: column;align-items: center;background-color: white;padding-right: 0.2em;padding-left: 0.2em;position: relative;}#sk-container-id-1 div.sk-item {position: relative;z-index: 1;}#sk-container-id-1 div.sk-parallel {display: flex;align-items: stretch;justify-content: center;background-color: white;position: relative;}#sk-container-id-1 div.sk-item::before, #sk-container-id-1 div.sk-parallel-item::before {content: \"\";position: absolute;border-left: 1px solid gray;box-sizing: border-box;top: 0;bottom: 0;left: 50%;z-index: -1;}#sk-container-id-1 div.sk-parallel-item {display: flex;flex-direction: column;z-index: 1;position: relative;background-color: white;}#sk-container-id-1 div.sk-parallel-item:first-child::after {align-self: flex-end;width: 50%;}#sk-container-id-1 div.sk-parallel-item:last-child::after {align-self: flex-start;width: 50%;}#sk-container-id-1 div.sk-parallel-item:only-child::after {width: 0;}#sk-container-id-1 div.sk-dashed-wrapped {border: 1px dashed gray;margin: 0 0.4em 0.5em 0.4em;box-sizing: border-box;padding-bottom: 0.4em;background-color: white;}#sk-container-id-1 div.sk-label label {font-family: monospace;font-weight: bold;display: inline-block;line-height: 1.2em;}#sk-container-id-1 div.sk-label-container {text-align: center;}#sk-container-id-1 div.sk-container {/* jupyter's `normalize.less` sets `[hidden] { display: none; }` but bootstrap.min.css set `[hidden] { display: none !important; }` so we also need the `!important` here to be able to override the default hidden behavior on the sphinx rendered scikit-learn.org. See: https://github.com/scikit-learn/scikit-learn/issues/21755 */display: inline-block !important;position: relative;}#sk-container-id-1 div.sk-text-repr-fallback {display: none;}</style><div id=\"sk-container-id-1\" class=\"sk-top-container\"><div class=\"sk-text-repr-fallback\"><pre>RandomForestClassifier(n_estimators=800, n_jobs=-1, random_state=0)</pre><b>In a Jupyter environment, please rerun this cell to show the HTML representation or trust the notebook. <br />On GitHub, the HTML representation is unable to render, please try loading this page with nbviewer.org.</b></div><div class=\"sk-container\" hidden><div class=\"sk-item\"><div class=\"sk-estimator sk-toggleable\"><input class=\"sk-toggleable__control sk-hidden--visually\" id=\"sk-estimator-id-1\" type=\"checkbox\" checked><label for=\"sk-estimator-id-1\" class=\"sk-toggleable__label sk-toggleable__label-arrow\">RandomForestClassifier</label><div class=\"sk-toggleable__content\"><pre>RandomForestClassifier(n_estimators=800, n_jobs=-1, random_state=0)</pre></div></div></div></div></div>"
      ],
      "text/plain": [
       "RandomForestClassifier(n_estimators=800, n_jobs=-1, random_state=0)"
      ]
     },
     "execution_count": 10,
     "metadata": {},
     "output_type": "execute_result"
    }
   ],
   "source": [
    "model = RandomForestClassifier(random_state =0,\n",
    "                               n_estimators =800,\n",
    "                               n_jobs =-1)\n",
    "\n",
    "model.fit(csr_matrix(X_pp_train), y_pp_train)"
   ]
  },
  {
   "cell_type": "markdown",
   "metadata": {},
   "source": [
    "### When using sparse matrices we need to tell the Search method to use sparse data, we do this with the space argument and data type argument passed to the graph. We will use the cosine space as a measure of similarity here"
   ]
  },
  {
   "cell_type": "code",
   "execution_count": 11,
   "metadata": {},
   "outputs": [],
   "source": [
    "param_bounds = clmod.SearchBounds(alpha_bounds = (0, 500), k_bounds = (5,15))\n",
    "neighbour_search_params = clmod.HnswGraphArgs(query_args = dict(ef = 1100), \n",
    "                                              init_args = dict(method=\"hnsw\",\n",
    "                                                               space=\"cosinesimil_sparse\",\n",
    "                                                               data_type=nmslib.DataType.SPARSE_VECTOR))"
   ]
  },
  {
   "cell_type": "code",
   "execution_count": 12,
   "metadata": {},
   "outputs": [],
   "source": [
    "macest_model = clmod.ModelWithConfidence(model,\n",
    "                                         X_conf_train,\n",
    "                                         y_conf_train, \n",
    "                                         search_method_args=neighbour_search_params)\n",
    "\n",
    "macest_model.fit(X_cal, y_cal)"
   ]
  },
  {
   "cell_type": "code",
   "execution_count": 13,
   "metadata": {},
   "outputs": [],
   "source": [
    "preds = model.predict(X_test)\n",
    "rf_conf_preds = model.predict_proba(X_test)\n",
    "macest_point_prediction_conf = macest_model.predict_confidence_of_point_prediction(X_test) "
   ]
  },
  {
   "cell_type": "markdown",
   "metadata": {},
   "source": [
    "#### Also note here that the rf confidence estimates are over-confident a lot of the time, the labels are random therefore a good confidence estimate should be  ~ 50/50. We see below that MACEst correctly learns this"
   ]
  },
  {
   "cell_type": "code",
   "execution_count": 14,
   "metadata": {},
   "outputs": [
    {
     "name": "stdout",
     "output_type": "stream",
     "text": [
      "[0.70375 0.8025  0.6     0.64875 0.635   0.53    0.555   0.69125 0.5925\n",
      " 0.67625 0.64875 0.76    0.6425  0.63875 0.5525  0.69125 0.635   0.63625\n",
      " 0.70375 0.68875 0.675   0.585   0.61375 0.61375 0.6875  0.53875 0.685\n",
      " 0.73625 0.5975  0.72125 0.7225  0.58875 0.63375 0.61125 0.58    0.74875\n",
      " 0.60375 0.6675  0.605   0.62625 0.7225  0.50875 0.6175  0.69375 0.6675\n",
      " 0.74125 0.61625 0.63625 0.55625 0.58875 0.725   0.62625 0.59375 0.6325\n",
      " 0.59125 0.56375 0.70125 0.66875 0.685   0.55625 0.6     0.6325  0.5475\n",
      " 0.71    0.61625 0.655   0.6025  0.69    0.62625 0.61375 0.76    0.5325\n",
      " 0.6675  0.585   0.57375 0.64    0.59125 0.62625 0.59    0.6125  0.5175\n",
      " 0.655   0.54625 0.555   0.61875 0.55875 0.695   0.5025  0.6475  0.65875\n",
      " 0.66625 0.6125  0.76375 0.6525  0.75375 0.6475  0.61125 0.5575  0.63\n",
      " 0.65875 0.68    0.61125 0.56125 0.5425  0.60875 0.51125 0.575   0.65625\n",
      " 0.655   0.6525  0.5975  0.665   0.605   0.61    0.615   0.5775  0.51375\n",
      " 0.52125 0.64625 0.6725  0.71375 0.5475  0.6425  0.715   0.50125 0.53375\n",
      " 0.6525  0.605   0.65    0.55375 0.56125 0.6425  0.56625 0.5375  0.60375\n",
      " 0.595   0.58875 0.7575  0.52875 0.54    0.61375 0.585   0.70625 0.5575\n",
      " 0.5625  0.60875 0.63125 0.68625 0.63    0.6075  0.63875 0.61625 0.6275\n",
      " 0.5175  0.63375 0.53    0.505   0.58125 0.585   0.6775  0.6825  0.6675\n",
      " 0.64125 0.68125 0.54625]\n"
     ]
    }
   ],
   "source": [
    "print(np.max(rf_conf_preds, axis=1))"
   ]
  },
  {
   "cell_type": "code",
   "execution_count": 15,
   "metadata": {},
   "outputs": [
    {
     "name": "stdout",
     "output_type": "stream",
     "text": [
      "[0.59487106 0.57266399 0.59595903 0.5960263  0.59572118 0.59873666\n",
      " 0.59260776 0.59362389 0.59737518 0.59412792 0.59454327 0.59755493\n",
      " 0.59400505 0.58259815 0.594659   0.58351116 0.57113512 0.59473492\n",
      " 0.59614569 0.58257615 0.59523294 0.596121   0.59598689 0.5834981\n",
      " 0.59840931 0.42828906 0.59759749 0.59500512 0.59593662 0.59670729\n",
      " 0.58154355 0.59350248 0.59374335 0.59586743 0.54183203 0.59449364\n",
      " 0.59388544 0.59448501 0.5714903  0.59832047 0.58119105 0.59527867\n",
      " 0.59873971 0.59603496 0.57100381 0.58103343 0.58246355 0.58122099\n",
      " 0.59466362 0.5803304  0.59454239 0.59568834 0.59440366 0.59335104\n",
      " 0.59440225 0.5938606  0.59620664 0.59346594 0.59334467 0.58194153\n",
      " 0.59350063 0.58168441 0.59800347 0.59503156 0.59555559 0.57168772\n",
      " 0.59428156 0.59536565 0.59506325 0.58024393 0.56832245 0.59559276\n",
      " 0.58025743 0.59668309 0.58103038 0.5673401  0.59512612 0.59596073\n",
      " 0.59327091 0.5946641  0.59535757 0.5932177  0.5928846  0.59517873\n",
      " 0.59580844 0.59518757 0.58257852 0.57499098 0.59571429 0.5954923\n",
      " 0.59565459 0.58381096 0.59275266 0.59461406 0.5950563  0.59740027\n",
      " 0.59738176 0.59549906 0.5962513  0.58140257 0.59442967 0.58315661\n",
      " 0.57824215 0.59535275 0.56977972 0.43480594 0.59507993 0.59460167\n",
      " 0.58155437 0.59433067 0.58003336 0.59505959 0.59584821 0.59398\n",
      " 0.59410693 0.5947448  0.58119325 0.59527113 0.58178633 0.58169064\n",
      " 0.59537898 0.58107147 0.55947926 0.5966196  0.59287944 0.40323459\n",
      " 0.59480397 0.58247734 0.59544066 0.59152115 0.59536679 0.59653905\n",
      " 0.59427576 0.59541288 0.59360707 0.59541252 0.59390195 0.59520646\n",
      " 0.59554272 0.5738245  0.59549795 0.59539241 0.59738628 0.5947232\n",
      " 0.5530934  0.57161952 0.59607328 0.59148207 0.59470328 0.59372421\n",
      " 0.59453894 0.59719167 0.59457408 0.58028554 0.55725733 0.41742808\n",
      " 0.58168111 0.59509575 0.59618858 0.58176814 0.59535512 0.59746778\n",
      " 0.59569447 0.59414281 0.59461572]\n"
     ]
    }
   ],
   "source": [
    "print(macest_point_prediction_conf)"
   ]
  },
  {
   "cell_type": "markdown",
   "metadata": {},
   "source": [
    "## If we pass a sparse array without telling hnsw what happens ?"
   ]
  },
  {
   "cell_type": "code",
   "execution_count": 16,
   "metadata": {},
   "outputs": [],
   "source": [
    "param_bounds = clmod.SearchBounds(alpha_bounds = (0, 500), k_bounds = (5,15))"
   ]
  },
  {
   "cell_type": "code",
   "execution_count": 17,
   "metadata": {},
   "outputs": [
    {
     "ename": "ValueError",
     "evalue": "Training data type and space are not compatible, your space is l2 and training data type is <class 'scipy.sparse._csr.csr_matrix'>.Sparse metric: False. Sparse data: True. Initialisation args: {'method': 'hnsw', 'space': 'l2'}.",
     "output_type": "error",
     "traceback": [
      "\u001b[0;31m---------------------------------------------------------------------------\u001b[0m",
      "\u001b[0;31mValueError\u001b[0m                                Traceback (most recent call last)",
      "Cell \u001b[0;32mIn[17], line 1\u001b[0m\n\u001b[0;32m----> 1\u001b[0m macest_model \u001b[38;5;241m=\u001b[39m \u001b[43mclmod\u001b[49m\u001b[38;5;241;43m.\u001b[39;49m\u001b[43mModelWithConfidence\u001b[49m\u001b[43m(\u001b[49m\u001b[43mmodel\u001b[49m\u001b[43m,\u001b[49m\n\u001b[1;32m      2\u001b[0m \u001b[43m                                         \u001b[49m\u001b[43mX_conf_train\u001b[49m\u001b[43m,\u001b[49m\n\u001b[1;32m      3\u001b[0m \u001b[43m                                         \u001b[49m\u001b[43my_conf_train\u001b[49m\u001b[43m,\u001b[49m\u001b[43m)\u001b[49m\n",
      "File \u001b[0;32m~/code/macest/src/macest/classification/models.py:124\u001b[0m, in \u001b[0;36mModelWithConfidence.__init__\u001b[0;34m(self, point_pred_model, x_train, y_train, macest_model_params, precomputed_neighbour_info, graph, search_method_args, training_preds_by_class, verbose_training, empirical_conflict_constant)\u001b[0m\n\u001b[1;32m    122\u001b[0m \u001b[38;5;28mself\u001b[39m\u001b[38;5;241m.\u001b[39msearch_method_args \u001b[38;5;241m=\u001b[39m search_method_args\n\u001b[1;32m    123\u001b[0m \u001b[38;5;28mself\u001b[39m\u001b[38;5;241m.\u001b[39m_check_consistent_search_method_args()\n\u001b[0;32m--> 124\u001b[0m \u001b[38;5;28;43mself\u001b[39;49m\u001b[38;5;241;43m.\u001b[39;49m\u001b[43m_check_data_consistent_with_search_args\u001b[49m\u001b[43m(\u001b[49m\u001b[43m)\u001b[49m\n\u001b[1;32m    126\u001b[0m \u001b[38;5;28mself\u001b[39m\u001b[38;5;241m.\u001b[39mtraining_preds_by_class \u001b[38;5;241m=\u001b[39m training_preds_by_class\n\u001b[1;32m    127\u001b[0m \u001b[38;5;28;01mif\u001b[39;00m training_preds_by_class \u001b[38;5;129;01mis\u001b[39;00m \u001b[38;5;28;01mNone\u001b[39;00m:\n",
      "File \u001b[0;32m~/code/macest/src/macest/classification/models.py:426\u001b[0m, in \u001b[0;36mModelWithConfidence._check_data_consistent_with_search_args\u001b[0;34m(self)\u001b[0m\n\u001b[1;32m    423\u001b[0m     sparse_data \u001b[38;5;241m=\u001b[39m \u001b[38;5;28;01mFalse\u001b[39;00m\n\u001b[1;32m    425\u001b[0m \u001b[38;5;28;01mif\u001b[39;00m sparse_metric \u001b[38;5;241m!=\u001b[39m sparse_data:\n\u001b[0;32m--> 426\u001b[0m     \u001b[38;5;28;01mraise\u001b[39;00m \u001b[38;5;167;01mValueError\u001b[39;00m(\n\u001b[1;32m    427\u001b[0m         \u001b[38;5;124mf\u001b[39m\u001b[38;5;124m'\u001b[39m\u001b[38;5;124mTraining data type and space are not compatible, your space is \u001b[39m\u001b[38;5;132;01m{\u001b[39;00mspace\u001b[38;5;132;01m}\u001b[39;00m\u001b[38;5;124m \u001b[39m\u001b[38;5;124m'\u001b[39m\n\u001b[1;32m    428\u001b[0m         \u001b[38;5;124mf\u001b[39m\u001b[38;5;124m'\u001b[39m\u001b[38;5;124mand training data type is \u001b[39m\u001b[38;5;132;01m{\u001b[39;00mtraining_data_type\u001b[38;5;132;01m}\u001b[39;00m\u001b[38;5;124m.\u001b[39m\u001b[38;5;124m'\u001b[39m \n\u001b[1;32m    429\u001b[0m         \u001b[38;5;124mf\u001b[39m\u001b[38;5;124m'\u001b[39m\u001b[38;5;124mSparse metric: \u001b[39m\u001b[38;5;132;01m{\u001b[39;00msparse_metric\u001b[38;5;132;01m}\u001b[39;00m\u001b[38;5;124m. Sparse data: \u001b[39m\u001b[38;5;132;01m{\u001b[39;00msparse_data\u001b[38;5;132;01m}\u001b[39;00m\u001b[38;5;124m. \u001b[39m\u001b[38;5;124m'\u001b[39m\n\u001b[1;32m    430\u001b[0m         \u001b[38;5;124mf\u001b[39m\u001b[38;5;124m'\u001b[39m\u001b[38;5;124mInitialisation args: \u001b[39m\u001b[38;5;132;01m{\u001b[39;00minit_args\u001b[38;5;132;01m}\u001b[39;00m\u001b[38;5;124m.\u001b[39m\u001b[38;5;124m'\u001b[39m)\n",
      "\u001b[0;31mValueError\u001b[0m: Training data type and space are not compatible, your space is l2 and training data type is <class 'scipy.sparse._csr.csr_matrix'>.Sparse metric: False. Sparse data: True. Initialisation args: {'method': 'hnsw', 'space': 'l2'}."
     ]
    }
   ],
   "source": [
    "macest_model = clmod.ModelWithConfidence(model,\n",
    "                                         X_conf_train,\n",
    "                                         y_conf_train,)"
   ]
  },
  {
   "cell_type": "markdown",
   "metadata": {},
   "source": [
    "As we did not specify the sparse type, this resulted in an error. As expected."
   ]
  }
 ],
 "metadata": {
  "kernelspec": {
   "display_name": "Python 3",
   "language": "python",
   "name": "python3"
  },
  "language_info": {
   "codemirror_mode": {
    "name": "ipython",
    "version": 3
   },
   "file_extension": ".py",
   "mimetype": "text/x-python",
   "name": "python",
   "nbconvert_exporter": "python",
   "pygments_lexer": "ipython3",
   "version": "3.8.16"
  }
 },
 "nbformat": 4,
 "nbformat_minor": 4
}
